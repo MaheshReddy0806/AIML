{
  "cells": [
    {
      "cell_type": "markdown",
      "metadata": {
        "id": "view-in-github",
        "colab_type": "text"
      },
      "source": [
        "<a href=\"https://colab.research.google.com/github/MaheshReddy0806/AIML/blob/main/Lab%20Exam(SET%20A)14.ipynb\" target=\"_parent\"><img src=\"https://colab.research.google.com/assets/colab-badge.svg\" alt=\"Open In Colab\"/></a>"
      ]
    },
    {
      "cell_type": "code",
      "source": [
        "import pandas as pd\n",
        "import numpy as np\n",
        "import matplotlib.pyplot as plt\n",
        "from sklearn.model_selection import train_test_split\n",
        "from sklearn.preprocessing import LabelEncoder\n",
        "from sklearn.ensemble import RandomForestClassifier\n",
        "from sklearn.metrics import accuracy_score, classification_report\n",
        "from sklearn.cluster import KMeans\n",
        "from sklearn.preprocessing import StandardScaler"
      ],
      "metadata": {
        "id": "BqElPaWc6r-4"
      },
      "execution_count": 22,
      "outputs": []
    },
    {
      "cell_type": "code",
      "source": [
        "# Step 1: Load the dataset\n",
        "# For this example, we'll create a mock dataset. Replace it with your actual data file.\n",
        "# df = pd.read_csv('car_evaluation.csv')  # Uncomment and use your actual dataset\n",
        "\n",
        "data = {\n",
        "    'buying': np.random.choice(['low', 'med', 'high', 'vhigh'], 100),\n",
        "    'maint': np.random.choice(['low', 'med', 'high'], 100),\n",
        "    'doors': np.random.choice([2, 3, 4, 5], 100),\n",
        "    'persons': np.random.choice([2, 4], 100),\n",
        "    'lug_boot': np.random.choice(['small', 'med', 'big'], 100),\n",
        "    'safety': np.random.choice(['low', 'med', 'high'], 100),\n",
        "    'class': np.random.choice(['unacc', 'acc', 'good', 'vgood'], 100),\n",
        "    'paint': np.random.choice(['red', 'blue', 'green', 'black'], 100)\n",
        "}\n",
        "\n",
        "df = pd.DataFrame(data)"
      ],
      "metadata": {
        "id": "4lFkdEfy6zXr"
      },
      "execution_count": 23,
      "outputs": []
    },
    {
      "cell_type": "code",
      "source": [
        "# Step 2: Identify the top 5 reasons for buying a car based on correlation with 'class' (target variable)\n",
        "# Encode categorical data\n",
        "label_encoder = LabelEncoder()\n",
        "for column in df.columns:\n",
        "    df[column] = label_encoder.fit_transform(df[column])\n",
        "\n",
        "# Correlation matrix\n",
        "correlation_matrix = df.corr()\n",
        "top_5_reasons = correlation_matrix['class'].sort_values(ascending=False)[1:6]\n",
        "print(\"Top 5 reasons for buying a car based on correlation with 'class':\")\n",
        "print(top_5_reasons)"
      ],
      "metadata": {
        "id": "zHwVRw_o61sy",
        "outputId": "62ca798e-4235-43c3-e9ed-d7956583e088",
        "colab": {
          "base_uri": "https://localhost:8080/"
        }
      },
      "execution_count": 24,
      "outputs": [
        {
          "output_type": "stream",
          "name": "stdout",
          "text": [
            "Top 5 reasons for buying a car based on correlation with 'class':\n",
            "persons     0.157078\n",
            "maint       0.075686\n",
            "safety     -0.011898\n",
            "paint      -0.013028\n",
            "lug_boot   -0.030771\n",
            "Name: class, dtype: float64\n"
          ]
        }
      ]
    },
    {
      "cell_type": "code",
      "source": [
        "# Step 3: Identify the class with most cars sold\n",
        "class_counts = df['class'].value_counts()\n",
        "print(\"\\nClass with most cars sold:\")\n",
        "print(class_counts)"
      ],
      "metadata": {
        "id": "iV2-0feT6-Qj",
        "outputId": "da5084dc-0356-4efe-8b54-bf5db0d16680",
        "colab": {
          "base_uri": "https://localhost:8080/"
        }
      },
      "execution_count": 25,
      "outputs": [
        {
          "output_type": "stream",
          "name": "stdout",
          "text": [
            "\n",
            "Class with most cars sold:\n",
            "class\n",
            "1    31\n",
            "2    31\n",
            "3    20\n",
            "0    18\n",
            "Name: count, dtype: int64\n"
          ]
        }
      ]
    },
    {
      "cell_type": "code",
      "source": [
        "# Step 4: Find the max and min safety choice for car buying\n",
        "max_safety = df['safety'].max()\n",
        "min_safety = df['safety'].min()\n",
        "print(f\"\\nMax safety choice: {max_safety}, Min safety choice: {min_safety}\")"
      ],
      "metadata": {
        "id": "jk_B6v5l7F3o",
        "outputId": "627f3487-6bf3-43f4-837d-d9713168428d",
        "colab": {
          "base_uri": "https://localhost:8080/"
        }
      },
      "execution_count": 26,
      "outputs": [
        {
          "output_type": "stream",
          "name": "stdout",
          "text": [
            "\n",
            "Max safety choice: 2, Min safety choice: 0\n"
          ]
        }
      ]
    },
    {
      "cell_type": "code",
      "source": [
        "# Step 5: What is the role of paint, doors, lug_boot in car buying?\n",
        "# We can look at the correlation of these attributes with the target 'class'\n",
        "print(\"\\nRole of Paint, Doors, and Lug Boot in car buying:\")\n",
        "paint_role = correlation_matrix['class']['paint']\n",
        "doors_role = correlation_matrix['class']['doors']\n",
        "lug_boot_role = correlation_matrix['class']['lug_boot']\n",
        "print(f\"Paint: {paint_role}, Doors: {doors_role}, Lug Boot: {lug_boot_role}\")"
      ],
      "metadata": {
        "id": "QW6U3USS7KJO",
        "outputId": "fc5efcf3-9893-4a45-dd71-856c17f8401a",
        "colab": {
          "base_uri": "https://localhost:8080/"
        }
      },
      "execution_count": 27,
      "outputs": [
        {
          "output_type": "stream",
          "name": "stdout",
          "text": [
            "\n",
            "Role of Paint, Doors, and Lug Boot in car buying:\n",
            "Paint: -0.01302837194721963, Doors: -0.030867602000359005, Lug Boot: -0.030771483146337472\n"
          ]
        }
      ]
    },
    {
      "cell_type": "code",
      "source": [
        "# Step 6: Identify the cars with most maintenance\n",
        "most_maintenance = df[df['maint'] == df['maint'].max()]\n",
        "print(\"\\nCars with most maintenance:\")\n",
        "print(most_maintenance)"
      ],
      "metadata": {
        "id": "PY4Knr9_7YyT",
        "outputId": "7dd2f55d-21cd-426d-c030-90ee83f99f47",
        "colab": {
          "base_uri": "https://localhost:8080/"
        }
      },
      "execution_count": 28,
      "outputs": [
        {
          "output_type": "stream",
          "name": "stdout",
          "text": [
            "\n",
            "Cars with most maintenance:\n",
            "    buying  maint  doors  persons  lug_boot  safety  class  paint\n",
            "1        1      2      3        1         0       0      3      1\n",
            "3        0      2      1        1         2       0      3      3\n",
            "6        2      2      1        1         1       2      2      0\n",
            "9        3      2      2        1         2       1      1      3\n",
            "11       0      2      0        1         0       0      3      1\n",
            "16       0      2      0        1         2       2      1      0\n",
            "25       0      2      2        1         2       2      2      3\n",
            "35       1      2      0        0         1       2      0      3\n",
            "38       2      2      1        1         1       1      2      3\n",
            "40       1      2      1        0         0       0      2      2\n",
            "41       0      2      0        0         0       0      2      1\n",
            "42       0      2      3        0         2       0      2      2\n",
            "48       2      2      3        0         1       1      0      0\n",
            "51       2      2      3        0         1       1      0      3\n",
            "52       0      2      2        1         0       1      1      1\n",
            "54       2      2      2        0         1       1      0      2\n",
            "55       3      2      1        0         2       0      1      3\n",
            "60       1      2      1        0         2       0      2      3\n",
            "64       3      2      3        1         0       1      2      1\n",
            "66       0      2      2        0         1       1      2      1\n",
            "72       0      2      2        0         0       0      0      2\n",
            "77       2      2      2        1         1       1      1      1\n",
            "79       3      2      1        0         2       2      1      1\n",
            "88       3      2      3        1         0       2      3      1\n",
            "90       2      2      1        1         1       0      3      3\n",
            "91       2      2      0        1         0       0      1      1\n",
            "92       2      2      2        1         2       1      2      1\n",
            "93       1      2      0        1         2       1      2      0\n",
            "94       3      2      1        1         0       2      3      0\n",
            "96       1      2      2        1         0       1      2      1\n"
          ]
        }
      ]
    },
    {
      "cell_type": "code",
      "source": [
        "# Step 7: Apply Classification Model (Random Forest Classifier)\n",
        "# Split the dataset into features (X) and target (y)\n",
        "X = df.drop('class', axis=1)\n",
        "y = df['class']"
      ],
      "metadata": {
        "id": "smz-QfzU7aqU"
      },
      "execution_count": 29,
      "outputs": []
    },
    {
      "cell_type": "code",
      "source": [
        "# Split into training and testing sets\n",
        "X_train, X_test, y_train, y_test = train_test_split(X, y, test_size=0.2, random_state=42)\n",
        "\n",
        "# Train a Random Forest Classifier\n",
        "model = RandomForestClassifier(n_estimators=100, random_state=42)\n",
        "model.fit(X_train, y_train)\n",
        "\n",
        "# Make predictions\n",
        "y_pred = model.predict(X_test)\n",
        "\n",
        "# Evaluate the model\n",
        "print(\"\\nClassification Model Evaluation:\")\n",
        "print(f\"Accuracy: {accuracy_score(y_test, y_pred)}\")\n",
        "print(classification_report(y_test, y_pred))"
      ],
      "metadata": {
        "id": "APyhAErS7gnd",
        "outputId": "b77dddca-e8ca-4657-b2e1-2116d8ccb6f0",
        "colab": {
          "base_uri": "https://localhost:8080/"
        }
      },
      "execution_count": 30,
      "outputs": [
        {
          "output_type": "stream",
          "name": "stdout",
          "text": [
            "\n",
            "Classification Model Evaluation:\n",
            "Accuracy: 0.3\n",
            "              precision    recall  f1-score   support\n",
            "\n",
            "           0       0.00      0.00      0.00         2\n",
            "           1       0.29      0.25      0.27         8\n",
            "           2       0.43      0.43      0.43         7\n",
            "           3       0.25      0.33      0.29         3\n",
            "\n",
            "    accuracy                           0.30        20\n",
            "   macro avg       0.24      0.25      0.25        20\n",
            "weighted avg       0.30      0.30      0.30        20\n",
            "\n"
          ]
        }
      ]
    },
    {
      "cell_type": "code",
      "source": [
        "# Step 8: Apply Clustering Model (KMeans)\n",
        "# Scale the features before clustering\n",
        "scaler = StandardScaler()\n",
        "X_scaled = scaler.fit_transform(X)\n",
        "\n",
        "# Apply KMeans Clustering (n_clusters can be adjusted based on your needs)\n",
        "kmeans = KMeans(n_clusters=3, random_state=42)\n",
        "df['cluster'] = kmeans.fit_predict(X_scaled)\n",
        "\n",
        "# Visualize the clusters (using 'doors' and 'safety' for 2D visualization)\n",
        "plt.figure(figsize=(8, 6))\n",
        "plt.scatter(df['doors'], df['safety'], c=df['cluster'], cmap='viridis')\n",
        "plt.title('K-Means Clustering of Car Evaluation Data')\n",
        "plt.xlabel('Doors')\n",
        "plt.ylabel('Safety')\n",
        "plt.show()"
      ],
      "metadata": {
        "id": "DDrTFsXG7txs",
        "outputId": "24105d50-b933-4209-afe3-5021ca8c473c",
        "colab": {
          "base_uri": "https://localhost:8080/",
          "height": 564
        }
      },
      "execution_count": 31,
      "outputs": [
        {
          "output_type": "display_data",
          "data": {
            "text/plain": [
              "<Figure size 800x600 with 1 Axes>"
            ],
            "image/png": "[encoded data removed]"
          },
          "metadata": {}
        }
      ]
    }
  ],
  "metadata": {
    "colab": {
      "name": "Welcome To Colab",
      "provenance": [],
      "include_colab_link": true
    },
    "kernelspec": {
      "display_name": "Python 3",
      "name": "python3"
    }
  },
  "nbformat": 4,
  "nbformat_minor": 0
}