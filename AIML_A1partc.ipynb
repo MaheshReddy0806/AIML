{
  "cells": [
    {
      "cell_type": "markdown",
      "metadata": {
        "id": "view-in-github",
        "colab_type": "text"
      },
      "source": [
        "<a href=\"https://colab.research.google.com/github/MaheshReddy0806/AIML/blob/main/AIML_A1partc.ipynb\" target=\"_parent\"><img src=\"https://colab.research.google.com/assets/colab-badge.svg\" alt=\"Open In Colab\"/></a>"
      ]
    },
    {
      "cell_type": "code",
      "source": [
        "import numpy as np\n",
        "import pandas as pd\n",
        "df1 = pd.read_table(\"AIML_A1partc-Text.txt\")\n",
        "df1\n",
        "data2 = pd.read_csv(\"AIML_A1partc-Text.csv\")\n",
        "data2\n",
        "data3 = pd.read_excel(\"Height_weight.xlsx\")\n",
        "data3"
      ],
      "metadata": {
        "id": "ixIniqrteJV5"
      },
      "execution_count": null,
      "outputs": []
    }
  ],
  "metadata": {
    "colab": {
      "name": "Welcome To Colab",
      "toc_visible": true,
      "provenance": [],
      "include_colab_link": true
    },
    "kernelspec": {
      "display_name": "Python 3",
      "name": "python3"
    }
  },
  "nbformat": 4,
  "nbformat_minor": 0
}